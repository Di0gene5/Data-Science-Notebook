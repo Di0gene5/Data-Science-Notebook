{
 "cells": [
  {
   "cell_type": "markdown",
   "id": "d4ac24b3-8d60-4c75-ad3f-506188fbe7d8",
   "metadata": {},
   "source": [
    "# Data Science Tools and Ecosystem"
   ]
  },
  {
   "cell_type": "markdown",
   "id": "c7d6980b-466f-4fcc-8dad-d8e0550132a8",
   "metadata": {},
   "source": [
    "In this notebook, Data Science Tools and Ecosystem are summarized."
   ]
  },
  {
   "cell_type": "markdown",
   "id": "9018c07c-e23c-414c-a10f-b48e64c75c4a",
   "metadata": {},
   "source": [
    "**Objectives:**\n",
    "- Data Science's popular languages\n",
    "- Some of the commonly used libraries in data science\n",
    "- Simple arithmetic expression\n",
    "- Conversion minutes to hours"
   ]
  },
  {
   "cell_type": "markdown",
   "id": "1aa80033-7126-4217-9021-696b690dfe1e",
   "metadata": {},
   "source": [
    "Some of the popular languages that Data Scientists use are:\n",
    "1. Python\n",
    "2. R\n",
    "3. SQL"
   ]
  },
  {
   "cell_type": "markdown",
   "id": "47f7c814-c7fa-4b96-ab0e-54b0f4305f8a",
   "metadata": {},
   "source": [
    "Some of the commonly used libraries used by Data Scientists include:\n",
    "1. Numpy\n",
    "2. Pandas\n",
    "3. Matplotlib"
   ]
  },
  {
   "cell_type": "markdown",
   "id": "7d6e6c71-3784-442e-b44b-0c5f4f4f1c3c",
   "metadata": {},
   "source": [
    "| Data Science Tools     |\n",
    "|-------------------------|\n",
    "| Jupyter Notebook       |\n",
    "| RStudio                |\n",
    "| Apache Zeppelin        |\n"
   ]
  },
  {
   "cell_type": "markdown",
   "id": "ea7014c0-717f-4c9f-b75e-80a1a6fe9814",
   "metadata": {},
   "source": [
    "### Below are a few examples of evaluating arithmetic expressions in Python."
   ]
  },
  {
   "cell_type": "code",
   "execution_count": 3,
   "id": "01f643fb-973c-4065-a9ea-b0f481585770",
   "metadata": {},
   "outputs": [
    {
     "data": {
      "text/plain": [
       "17"
      ]
     },
     "execution_count": 3,
     "metadata": {},
     "output_type": "execute_result"
    }
   ],
   "source": [
    "#  This a simple arithmetic expression to mutiply then add integers\n",
    "(3*4)+5"
   ]
  },
  {
   "cell_type": "code",
   "execution_count": 4,
   "id": "e4b4867d-b302-4b7f-9099-1651a099be56",
   "metadata": {},
   "outputs": [
    {
     "data": {
      "text/plain": [
       "3.3333333333333335"
      ]
     },
     "execution_count": 4,
     "metadata": {},
     "output_type": "execute_result"
    }
   ],
   "source": [
    "# This will convert 200 minutes to hours by diving by 60\n",
    "200 / 60"
   ]
  },
  {
   "cell_type": "markdown",
   "id": "339a9070-52f8-471a-a25a-c92f0e4d4d1f",
   "metadata": {},
   "source": [
    "## Author\n",
    "Yassine Jari"
   ]
  },
  {
   "cell_type": "code",
   "execution_count": null,
   "id": "de98afc4-35cf-4be8-b242-0f436dc7c600",
   "metadata": {},
   "outputs": [],
   "source": []
  }
 ],
 "metadata": {
  "kernelspec": {
   "display_name": "Python 3 (ipykernel)",
   "language": "python",
   "name": "python3"
  },
  "language_info": {
   "codemirror_mode": {
    "name": "ipython",
    "version": 3
   },
   "file_extension": ".py",
   "mimetype": "text/x-python",
   "name": "python",
   "nbconvert_exporter": "python",
   "pygments_lexer": "ipython3",
   "version": "3.11.9"
  }
 },
 "nbformat": 4,
 "nbformat_minor": 5
}
